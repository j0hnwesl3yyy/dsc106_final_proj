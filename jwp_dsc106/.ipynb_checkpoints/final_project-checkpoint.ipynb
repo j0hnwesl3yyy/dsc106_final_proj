{
 "cells": [
  {
   "cell_type": "code",
   "execution_count": 1,
   "id": "55569d90-43db-4241-9766-bf4493cc3cb5",
   "metadata": {},
   "outputs": [],
   "source": [
    "import pandas as pd\n",
    "from pathlib import Path"
   ]
  },
  {
   "cell_type": "code",
   "execution_count": 2,
   "id": "b741969b-477c-4876-8b8e-3691be9d1e7d",
   "metadata": {},
   "outputs": [],
   "source": [
    "import pandas as pd\n",
    "from pathlib import Path\n",
    "\n",
    "DATA_PATH = Path(\"data/cases.csv\")   # adjust if your path differs\n",
    "cases_df  = pd.read_csv(DATA_PATH)\n"
   ]
  },
  {
   "cell_type": "code",
   "execution_count": 3,
   "id": "3a6a94a5-3cca-42a7-b438-b0d7aa32fdd2",
   "metadata": {
    "scrolled": true
   },
   "outputs": [
    {
     "data": {
      "text/plain": [
       "Index(['caseid', 'subjectid', 'casestart', 'caseend', 'anestart', 'aneend',\n",
       "       'opstart', 'opend', 'adm', 'dis', 'icu_days', 'death_inhosp', 'age',\n",
       "       'sex', 'height', 'weight', 'bmi', 'asa', 'emop', 'department', 'optype',\n",
       "       'dx', 'opname', 'approach', 'position', 'ane_type', 'preop_htn',\n",
       "       'preop_dm', 'preop_ecg', 'preop_pft', 'preop_hb', 'preop_plt',\n",
       "       'preop_pt', 'preop_aptt', 'preop_na', 'preop_k', 'preop_gluc',\n",
       "       'preop_alb', 'preop_ast', 'preop_alt', 'preop_bun', 'preop_cr',\n",
       "       'preop_ph', 'preop_hco3', 'preop_be', 'preop_pao2', 'preop_paco2',\n",
       "       'preop_sao2', 'cormack', 'airway', 'tubesize', 'dltubesize', 'lmasize',\n",
       "       'iv1', 'iv2', 'aline1', 'aline2', 'cline1', 'cline2', 'intraop_ebl',\n",
       "       'intraop_uo', 'intraop_rbc', 'intraop_ffp', 'intraop_crystalloid',\n",
       "       'intraop_colloid', 'intraop_ppf', 'intraop_mdz', 'intraop_ftn',\n",
       "       'intraop_rocu', 'intraop_vecu', 'intraop_eph', 'intraop_phe',\n",
       "       'intraop_epi', 'intraop_ca'],\n",
       "      dtype='object')"
      ]
     },
     "execution_count": 3,
     "metadata": {},
     "output_type": "execute_result"
    }
   ],
   "source": [
    "cases_df.columns"
   ]
  },
  {
   "cell_type": "code",
   "execution_count": 4,
   "id": "f2c9570f-92ad-480c-8726-7341a31f1581",
   "metadata": {},
   "outputs": [],
   "source": [
    "# %% ------------------------------------------------------------\n",
    "# 1  Basic cleaning  (drop columns you don't visualise)\n",
    "# ---------------------------------------------------------------\n",
    "DROP_COLS = [\n",
    "    \"subjectid\", \"casestart\", \"caseend\",            # redundant IDs/timestamps\n",
    "    \"height\", \"weight\",                             # BMI kept\n",
    "    # granular labs, airway lines, drug boluses...\n",
    "    \"preop_ecg\",\"preop_pft\",\"preop_hb\",\"preop_plt\",\"preop_pt\",\"preop_aptt\",\n",
    "    \"preop_na\",\"preop_k\",\"preop_gluc\",\"preop_alb\",\n",
    "    \"preop_ast\",\"preop_alt\",\"preop_bun\",\"preop_cr\",\n",
    "    \"preop_ph\",\"preop_hco3\",\"preop_be\",\n",
    "    \"preop_pao2\",\"preop_paco2\",\"preop_sao2\",\n",
    "    \"cormack\",\"airway\",\"tubesize\",\"dltubesize\",\"lmasize\",\n",
    "    \"iv1\",\"iv2\",\"aline1\",\"aline2\",\"cline1\",\"cline2\",\n",
    "    \"intraop_ppf\",\"intraop_mdz\",\"intraop_ftn\",\"intraop_rocu\",\"intraop_vecu\",\n",
    "    \"intraop_eph\",\"intraop_phe\",\"intraop_epi\",\"intraop_ca\"\n",
    "]\n",
    "\n",
    "cases_trim = cases_df.drop(columns=DROP_COLS, errors=\"ignore\").copy()"
   ]
  },
  {
   "cell_type": "code",
   "execution_count": 5,
   "id": "6fabcd3c-5192-43ea-9f56-053e6bc39b10",
   "metadata": {},
   "outputs": [
    {
     "data": {
      "text/plain": [
       "region\n",
       "abdomen      2777\n",
       "other        2393\n",
       "thorax        931\n",
       "head_neck     229\n",
       "pelvis         58\n",
       "Name: count, dtype: int64"
      ]
     },
     "execution_count": 5,
     "metadata": {},
     "output_type": "execute_result"
    }
   ],
   "source": [
    "# %% ------------------------------------------------------------\n",
    "# 2  Map each opname → anatomical region\n",
    "# ---------------------------------------------------------------\n",
    "REGION_MAP = {\n",
    "    # Abdomen / GI\n",
    "    \"Cholecystectomy\"                       : \"abdomen\",\n",
    "    \"Distal gastrectomy\"                    : \"abdomen\",\n",
    "    \"Anterior resection\"                    : \"abdomen\",\n",
    "    \"Exploratory laparotomy\"                : \"abdomen\",\n",
    "    \"Hemic colectomy\"                       : \"abdomen\",\n",
    "    \"Low anterior resection\"                : \"abdomen\",\n",
    "    \"Hernia repair\"                         : \"abdomen\",\n",
    "    \"Pylorus preserving pancreaticoduodenectomy\": \"abdomen\",\n",
    "    \"Ileostomy repair\"                      : \"abdomen\",\n",
    "    \"Total gastrectomy\"                     : \"abdomen\",\n",
    "    \"Liver segmentectomy\"                   : \"abdomen\",\n",
    "    \"Metastasectomy\"                        : \"abdomen\",\n",
    "    \"Incisional hernia repair\"              : \"abdomen\",\n",
    "    \"Appendectomy\"                          : \"abdomen\",\n",
    "\n",
    "    # Pelvis / GU\n",
    "    \"Radical prostatectomy\"                 : \"pelvis\",\n",
    "\n",
    "    # Thorax / Breast\n",
    "    \"Lung lobectomy\"                        : \"thorax\",\n",
    "    \"Lung wedge resection\"                  : \"thorax\",\n",
    "    \"Lung segmentectomy\"                    : \"thorax\",\n",
    "    \"Breast-conserving surgery\"             : \"thorax\",\n",
    "    \"Simple mastectomy\"                     : \"thorax\",\n",
    "\n",
    "    # Head & Neck\n",
    "    \"Thyroid lobectomy\"                     : \"head_neck\",\n",
    "    \"Total thyroidectomy\"                   : \"head_neck\",\n",
    "\n",
    "    # Transplant & donor\n",
    "    \"Kidney transplantation\"                : \"abdomen\",\n",
    "    \"Liver transplantation\"                 : \"abdomen\",\n",
    "    \"Donor nephrectomy\"                     : \"abdomen\",\n",
    "    \"Donor hepatectomy\"                     : \"abdomen\",\n",
    "    \"Hemihepatectomy\"                       : \"abdomen\",\n",
    "}\n",
    "\n",
    "cases_trim[\"region\"] = (\n",
    "    cases_trim[\"opname\"]\n",
    "            .str.strip()\n",
    "            .map(REGION_MAP)\n",
    "            .fillna(\"other\")\n",
    ")\n",
    "\n",
    "cases_trim[\"region\"].value_counts()\n"
   ]
  },
  {
   "cell_type": "code",
   "execution_count": 6,
   "id": "eab62f06-a520-411e-81c7-acd179bea116",
   "metadata": {},
   "outputs": [],
   "source": [
    "# %% ------------------------------------------------------------\n",
    "# 3  Derive helper columns\n",
    "# ---------------------------------------------------------------\n",
    "# postoperative LOS in *days*\n",
    "cases_trim[\"los_postop\"] = (cases_trim[\"dis\"] - cases_trim[\"adm\"]) / 86_400\n",
    "\n",
    "# calendar year (optional trend analysis later)\n",
    "cases_trim[\"year\"] = pd.to_datetime(cases_trim[\"opstart\"], unit=\"s\").dt.year\n"
   ]
  },
  {
   "cell_type": "code",
   "execution_count": 7,
   "id": "63070ace-519e-4eaa-9227-73f0a0a840e3",
   "metadata": {},
   "outputs": [
    {
     "data": {
      "text/html": [
       "<div>\n",
       "<style scoped>\n",
       "    .dataframe tbody tr th:only-of-type {\n",
       "        vertical-align: middle;\n",
       "    }\n",
       "\n",
       "    .dataframe tbody tr th {\n",
       "        vertical-align: top;\n",
       "    }\n",
       "\n",
       "    .dataframe thead th {\n",
       "        text-align: right;\n",
       "    }\n",
       "</style>\n",
       "<table border=\"1\" class=\"dataframe\">\n",
       "  <thead>\n",
       "    <tr style=\"text-align: right;\">\n",
       "      <th></th>\n",
       "      <th>region</th>\n",
       "      <th>case_count</th>\n",
       "      <th>mort_rate</th>\n",
       "      <th>mean_ebl</th>\n",
       "      <th>mean_los</th>\n",
       "      <th>pct_emergent</th>\n",
       "      <th>pct_ASA3plus</th>\n",
       "    </tr>\n",
       "  </thead>\n",
       "  <tbody>\n",
       "    <tr>\n",
       "      <th>0</th>\n",
       "      <td>abdomen</td>\n",
       "      <td>2777</td>\n",
       "      <td>0.01</td>\n",
       "      <td>465.20</td>\n",
       "      <td>11.08</td>\n",
       "      <td>0.14</td>\n",
       "      <td>0.13</td>\n",
       "    </tr>\n",
       "    <tr>\n",
       "      <th>1</th>\n",
       "      <td>head_neck</td>\n",
       "      <td>229</td>\n",
       "      <td>0.00</td>\n",
       "      <td>88.60</td>\n",
       "      <td>4.10</td>\n",
       "      <td>0.00</td>\n",
       "      <td>0.00</td>\n",
       "    </tr>\n",
       "    <tr>\n",
       "      <th>2</th>\n",
       "      <td>other</td>\n",
       "      <td>2393</td>\n",
       "      <td>0.01</td>\n",
       "      <td>339.25</td>\n",
       "      <td>11.72</td>\n",
       "      <td>0.16</td>\n",
       "      <td>0.15</td>\n",
       "    </tr>\n",
       "    <tr>\n",
       "      <th>3</th>\n",
       "      <td>pelvis</td>\n",
       "      <td>58</td>\n",
       "      <td>0.02</td>\n",
       "      <td>425.44</td>\n",
       "      <td>5.03</td>\n",
       "      <td>0.00</td>\n",
       "      <td>0.02</td>\n",
       "    </tr>\n",
       "    <tr>\n",
       "      <th>4</th>\n",
       "      <td>thorax</td>\n",
       "      <td>931</td>\n",
       "      <td>0.00</td>\n",
       "      <td>143.69</td>\n",
       "      <td>7.38</td>\n",
       "      <td>0.02</td>\n",
       "      <td>0.06</td>\n",
       "    </tr>\n",
       "  </tbody>\n",
       "</table>\n",
       "</div>"
      ],
      "text/plain": [
       "      region  case_count  mort_rate  mean_ebl  mean_los  pct_emergent  \\\n",
       "0    abdomen        2777       0.01    465.20     11.08          0.14   \n",
       "1  head_neck         229       0.00     88.60      4.10          0.00   \n",
       "2      other        2393       0.01    339.25     11.72          0.16   \n",
       "3     pelvis          58       0.02    425.44      5.03          0.00   \n",
       "4     thorax         931       0.00    143.69      7.38          0.02   \n",
       "\n",
       "   pct_ASA3plus  \n",
       "0          0.13  \n",
       "1          0.00  \n",
       "2          0.15  \n",
       "3          0.02  \n",
       "4          0.06  "
      ]
     },
     "execution_count": 7,
     "metadata": {},
     "output_type": "execute_result"
    }
   ],
   "source": [
    "# %% ------------------------------------------------------------\n",
    "# 4  Region-level summary  (for colouring the map)\n",
    "# ---------------------------------------------------------------\n",
    "region_summary = (\n",
    "    cases_trim.groupby(\"region\", as_index=False)\n",
    "              .agg(\n",
    "                  case_count     = (\"caseid\",\"count\"),\n",
    "                  mort_rate      = (\"death_inhosp\",\"mean\"),\n",
    "                  mean_ebl       = (\"intraop_ebl\",\"mean\"),\n",
    "                  mean_los       = (\"los_postop\",\"mean\"),\n",
    "                  pct_emergent   = (\"emop\",\"mean\"),\n",
    "                  pct_ASA3plus   = (\"asa\", lambda x: (x >= 3).mean()),\n",
    "              )\n",
    "              .round(2)\n",
    ")\n",
    "region_summary\n"
   ]
  },
  {
   "cell_type": "code",
   "execution_count": null,
   "id": "8135fcbe-7279-4f1b-b39d-c403bbf800ee",
   "metadata": {},
   "outputs": [],
   "source": [
    "# %% ------------------------------------------------------------\n",
    "# 6  Write JSON files\n",
    "# ---------------------------------------------------------------\n",
    "out_dir = Path(\".\")\n",
    "region_summary.to_json(out_dir / \"jwp.json\", orient=\"records\", indent=2)\n",
    "proc_by_region.to_json(out_dir / \"jwp.json\", orient=\"records\", indent=2)"
   ]
  }
 ],
 "metadata": {
  "kernelspec": {
   "display_name": "Python 3 (ipykernel)",
   "language": "python",
   "name": "python3"
  },
  "language_info": {
   "codemirror_mode": {
    "name": "ipython",
    "version": 3
   },
   "file_extension": ".py",
   "mimetype": "text/x-python",
   "name": "python",
   "nbconvert_exporter": "python",
   "pygments_lexer": "ipython3",
   "version": "3.12.8"
  }
 },
 "nbformat": 4,
 "nbformat_minor": 5
}
